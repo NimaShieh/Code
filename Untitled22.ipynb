{
  "nbformat": 4,
  "nbformat_minor": 0,
  "metadata": {
    "colab": {
      "provenance": [],
      "authorship_tag": "ABX9TyO28bWZp+/9ANUQRANT2tin",
      "include_colab_link": true
    },
    "kernelspec": {
      "name": "python3",
      "display_name": "Python 3"
    },
    "language_info": {
      "name": "python"
    }
  },
  "cells": [
    {
      "cell_type": "markdown",
      "metadata": {
        "id": "view-in-github",
        "colab_type": "text"
      },
      "source": [
        "<a href=\"https://colab.research.google.com/github/NxVendetta/Code/blob/main/Untitled22.ipynb\" target=\"_parent\"><img src=\"https://colab.research.google.com/assets/colab-badge.svg\" alt=\"Open In Colab\"/></a>"
      ]
    },
    {
      "cell_type": "code",
      "execution_count": null,
      "metadata": {
        "id": "L6uU3lYHQ3pt"
      },
      "outputs": [],
      "source": [
        "class car:\n",
        "    def __init__(self, name, w):\n",
        "         self.name=name\n",
        "         self.w=w\n",
        "    def __lt__(self, other):\n",
        "         return self.w<other.w\n",
        "car1=car('k',100)\n",
        "car2=car('p', 200)\n",
        "print(car1<car2)"
      ]
    }
  ]
}