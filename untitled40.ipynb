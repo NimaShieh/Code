{
  "nbformat": 4,
  "nbformat_minor": 0,
  "metadata": {
    "colab": {
      "provenance": [],
      "include_colab_link": true
    },
    "kernelspec": {
      "name": "python3",
      "display_name": "Python 3"
    },
    "language_info": {
      "name": "python"
    }
  },
  "cells": [
    {
      "cell_type": "markdown",
      "metadata": {
        "id": "view-in-github",
        "colab_type": "text"
      },
      "source": [
        "<a href=\"https://colab.research.google.com/github/NxVendetta/Code/blob/main/untitled40.ipynb\" target=\"_parent\"><img src=\"https://colab.research.google.com/assets/colab-badge.svg\" alt=\"Open In Colab\"/></a>"
      ]
    },
    {
      "cell_type": "code",
      "source": [
        "#کد نهایی ب م م\n",
        "def gcd(x, y):\n",
        "   if x > y:\n",
        "       gcd_ = x\n",
        "   else:\n",
        "       gcd_ = y\n",
        "\n",
        "   while(True):\n",
        "       if((x % gcd_ == 0) and (y % gcd_ == 0)):\n",
        "           break\n",
        "       gcd_ -= 1\n",
        "\n",
        "   return gcd_\n",
        "\n",
        "\n",
        "num1 = int(input())\n",
        "num2 = int(input())\n",
        "print(\"gcd: \", gcd(num1, num2))"
      ],
      "metadata": {
        "colab": {
          "base_uri": "https://localhost:8080/"
        },
        "id": "lONuoMouRFmo",
        "outputId": "51583cac-d848-491b-f038-1a0ed59d7cc6"
      },
      "execution_count": null,
      "outputs": [
        {
          "output_type": "stream",
          "name": "stdout",
          "text": [
            "Amazonis aonline e comment\n"
          ]
        }
      ]
    }
  ]
}