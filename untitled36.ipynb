{
  "nbformat": 4,
  "nbformat_minor": 0,
  "metadata": {
    "colab": {
      "provenance": [],
      "include_colab_link": true
    },
    "kernelspec": {
      "name": "python3",
      "display_name": "Python 3"
    },
    "language_info": {
      "name": "python"
    }
  },
  "cells": [
    {
      "cell_type": "markdown",
      "metadata": {
        "id": "view-in-github",
        "colab_type": "text"
      },
      "source": [
        "<a href=\"https://colab.research.google.com/github/NxVendetta/Code/blob/main/untitled36.ipynb\" target=\"_parent\"><img src=\"https://colab.research.google.com/assets/colab-badge.svg\" alt=\"Open In Colab\"/></a>"
      ]
    },
    {
      "cell_type": "code",
      "source": [
        "#تابع بنویسید که تا وقتی عدد صحیح 1000 را وارد نکرده ایم اعداد صحیح را از ورودی بگیرد و  میانگین اعداد وارد شده را به خروجی ارسال کند\n",
        "def mean():\n",
        "    i=0\n",
        "    Sum=0\n",
        "    Counter=0\n",
        "    while i!= 1000:\n",
        "        i=int(input())\n",
        "    Sum+=1\n",
        "    Counter+=1\n",
        "    return(sum-1000) | ( Counter-1)"
      ],
      "metadata": {
        "colab": {
          "base_uri": "https://localhost:8080/"
        },
        "id": "lONuoMouRFmo",
        "outputId": "51583cac-d848-491b-f038-1a0ed59d7cc6"
      },
      "execution_count": null,
      "outputs": [
        {
          "output_type": "stream",
          "name": "stdout",
          "text": [
            "Amazonis aonline e comment\n"
          ]
        }
      ]
    }
  ]
}