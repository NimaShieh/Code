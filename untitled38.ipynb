{
  "nbformat": 4,
  "nbformat_minor": 0,
  "metadata": {
    "colab": {
      "provenance": [],
      "include_colab_link": true
    },
    "kernelspec": {
      "name": "python3",
      "display_name": "Python 3"
    },
    "language_info": {
      "name": "python"
    }
  },
  "cells": [
    {
      "cell_type": "markdown",
      "metadata": {
        "id": "view-in-github",
        "colab_type": "text"
      },
      "source": [
        "<a href=\"https://colab.research.google.com/github/NxVendetta/Code/blob/main/untitled38.ipynb\" target=\"_parent\"><img src=\"https://colab.research.google.com/assets/colab-badge.svg\" alt=\"Open In Colab\"/></a>"
      ]
    },
    {
      "cell_type": "code",
      "source": [
        "#تابع بنویسید که لیستی از اعداد را از ورودی دریافت کرده و ب خروجی تابع ارسال کند\n",
        "def inputlist():\n",
        "    L={}\n",
        "    K=0\n",
        "    while 2>1:\n",
        "        K==5\n",
        "        break\n",
        "    L.append (K)\n",
        "    return L"
      ],
      "metadata": {
        "colab": {
          "base_uri": "https://localhost:8080/"
        },
        "id": "lONuoMouRFmo",
        "outputId": "51583cac-d848-491b-f038-1a0ed59d7cc6"
      },
      "execution_count": null,
      "outputs": [
        {
          "output_type": "stream",
          "name": "stdout",
          "text": [
            "Amazonis aonline e comment\n"
          ]
        }
      ]
    }
  ]
}