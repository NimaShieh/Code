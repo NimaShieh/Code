{
  "nbformat": 4,
  "nbformat_minor": 0,
  "metadata": {
    "colab": {
      "provenance": [],
      "authorship_tag": "ABX9TyNgrLTSsTXttMz4lTG8dzV8",
      "include_colab_link": true
    },
    "kernelspec": {
      "name": "python3",
      "display_name": "Python 3"
    },
    "language_info": {
      "name": "python"
    }
  },
  "cells": [
    {
      "cell_type": "markdown",
      "metadata": {
        "id": "view-in-github",
        "colab_type": "text"
      },
      "source": [
        "<a href=\"https://colab.research.google.com/github/NxVendetta/Code/blob/main/Untitled31.ipynb\" target=\"_parent\"><img src=\"https://colab.research.google.com/assets/colab-badge.svg\" alt=\"Open In Colab\"/></a>"
      ]
    },
    {
      "cell_type": "code",
      "execution_count": null,
      "metadata": {
        "id": "7CiCEZ6yX_1Z"
      },
      "outputs": [],
      "source": [
        "#تابع بنویسید عدد صحیح از ورودی گرفته سپس تمامی اعداد کوچیک تر n که فقط شامل 2 و 5 می باشد در ورودی چاپ کند\n",
        "\n",
        "def shamel2v5(L):\n",
        "    while L!=0:\n",
        "        k=L%10\n",
        "        if k!=2 and k!=5:\n",
        "          return False\n",
        "        L//=10\n",
        "    return True\n",
        "def function2(n):\n",
        "    for i in range(n):\n",
        "      K = shamel2v5(i)\n",
        "      if K:\n",
        "       Print(i)"
      ]
    }
  ]
}