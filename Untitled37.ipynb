{
  "nbformat": 4,
  "nbformat_minor": 0,
  "metadata": {
    "colab": {
      "provenance": [],
      "authorship_tag": "ABX9TyN1O4bUnloodaG386i1IWbZ",
      "include_colab_link": true
    },
    "kernelspec": {
      "name": "python3",
      "display_name": "Python 3"
    },
    "language_info": {
      "name": "python"
    }
  },
  "cells": [
    {
      "cell_type": "markdown",
      "metadata": {
        "id": "view-in-github",
        "colab_type": "text"
      },
      "source": [
        "<a href=\"https://colab.research.google.com/github/NxVendetta/Code/blob/main/Untitled37.ipynb\" target=\"_parent\"><img src=\"https://colab.research.google.com/assets/colab-badge.svg\" alt=\"Open In Colab\"/></a>"
      ]
    },
    {
      "cell_type": "code",
      "execution_count": null,
      "metadata": {
        "id": "7CiCEZ6yX_1Z"
      },
      "outputs": [],
      "source": [
        "#تابع بنویسید که عدد n از ورودی گرفته کوچیک ترین عددی که مجموع ارقامش برابر n است را به خروجی تابع ارسال کنید\n",
        "def majmoe(t):\n",
        "    ssum = 0\n",
        "    while t!= 0:\n",
        "        ssum += t%10\n",
        "        t //= 10\n",
        "    return ssum\n",
        "def function1(n):\n",
        "    for i in range(n):\n",
        "      K = majmoe(i)\n",
        "      if K == n:\n",
        "       return K\n",
        "    return print('not found')"
      ]
    }
  ]
}