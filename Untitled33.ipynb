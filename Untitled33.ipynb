{
  "nbformat": 4,
  "nbformat_minor": 0,
  "metadata": {
    "colab": {
      "provenance": [],
      "authorship_tag": "ABX9TyNo0L+K+ZM5WN4GD6qdTOYN",
      "include_colab_link": true
    },
    "kernelspec": {
      "name": "python3",
      "display_name": "Python 3"
    },
    "language_info": {
      "name": "python"
    }
  },
  "cells": [
    {
      "cell_type": "markdown",
      "metadata": {
        "id": "view-in-github",
        "colab_type": "text"
      },
      "source": [
        "<a href=\"https://colab.research.google.com/github/NxVendetta/Code/blob/main/Untitled33.ipynb\" target=\"_parent\"><img src=\"https://colab.research.google.com/assets/colab-badge.svg\" alt=\"Open In Colab\"/></a>"
      ]
    },
    {
      "cell_type": "code",
      "execution_count": null,
      "metadata": {
        "id": "7CiCEZ6yX_1Z"
      },
      "outputs": [],
      "source": [
        "#تابع بنویسید که 100 عدد را از ورودی گرفته و میانگین آن را به خروجی ارسال کند\n",
        "def mean():\n",
        "    S=0\n",
        "    for i in range (100):\n",
        "        S+= int (input())\n",
        "    return S/100"
      ]
    }
  ]
}